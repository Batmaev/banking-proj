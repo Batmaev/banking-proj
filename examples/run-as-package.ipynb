{
 "cells": [
  {
   "cell_type": "code",
   "execution_count": 9,
   "metadata": {},
   "outputs": [],
   "source": [
    "import sys\n",
    "sys.path.append('..')\n",
    "from src.core import *"
   ]
  },
  {
   "cell_type": "code",
   "execution_count": 10,
   "metadata": {},
   "outputs": [],
   "source": [
    "bank1 = Bank()\n",
    "bank2 = Bank()"
   ]
  },
  {
   "cell_type": "code",
   "execution_count": 11,
   "metadata": {},
   "outputs": [],
   "source": [
    "# Поэтапное создание клиентов\n",
    "client1 = Client(bank1, \"Иван\", \"Иванов\")\n",
    "client1.address = \"Москва\"\n",
    "client1.passport = \"1234 567890\"\n",
    "\n",
    "client1Facade = ClientFacade(client1)\n",
    "debit_1 = client1Facade.create_account('DebitAccount')\n",
    "\n",
    "client2 = Client(bank2, \"Петр\", \"Петров\")\n",
    "client2Facade = ClientFacade(client2)\n",
    "debit_2 = client2Facade.create_account('DebitAccount')"
   ]
  },
  {
   "cell_type": "code",
   "execution_count": 12,
   "metadata": {},
   "outputs": [
    {
     "data": {
      "text/plain": [
       "1000"
      ]
     },
     "execution_count": 12,
     "metadata": {},
     "output_type": "execute_result"
    }
   ],
   "source": [
    "# Внесение наличных\n",
    "\n",
    "client1Facade.deposit(debit_1.id, 1000)\n",
    "debit_1.balance"
   ]
  },
  {
   "cell_type": "code",
   "execution_count": 13,
   "metadata": {},
   "outputs": [
    {
     "data": {
      "text/plain": [
       "(500, 500)"
      ]
     },
     "execution_count": 13,
     "metadata": {},
     "output_type": "execute_result"
    }
   ],
   "source": [
    "# Перевод\n",
    "\n",
    "Transaction(debit_1, debit_2, 500).perform()\n",
    "debit_1.balance, debit_2.balance"
   ]
  },
  {
   "cell_type": "code",
   "execution_count": 14,
   "metadata": {},
   "outputs": [
    {
     "data": {
      "text/plain": [
       "UUID('1558b781-e8a6-48cb-871c-82cf5598e921')"
      ]
     },
     "execution_count": 14,
     "metadata": {},
     "output_type": "execute_result"
    }
   ],
   "source": [
    "# Альтернативно, клиенты могут через фасад переводить по id счёта получателя\n",
    "\n",
    "debit_2.id"
   ]
  },
  {
   "cell_type": "code",
   "execution_count": 15,
   "metadata": {},
   "outputs": [
    {
     "data": {
      "text/plain": [
       "(0, 1000)"
      ]
     },
     "execution_count": 15,
     "metadata": {},
     "output_type": "execute_result"
    }
   ],
   "source": [
    "client1Facade.transfer(debit_1.id, debit_2.id, 500, bank2)\n",
    "debit_1.balance, debit_2.balance"
   ]
  },
  {
   "cell_type": "code",
   "execution_count": 16,
   "metadata": {},
   "outputs": [
    {
     "data": {
      "text/plain": [
       "Error: Client doesn't have passport or address"
      ]
     },
     "execution_count": 16,
     "metadata": {},
     "output_type": "execute_result"
    }
   ],
   "source": [
    "# Если просто попросить Петрова вернуть деньги, то он не сможет, т.к. у него нет паспорта\n",
    "\n",
    "Transaction(debit_2, debit_1, 500).perform()"
   ]
  },
  {
   "cell_type": "code",
   "execution_count": 17,
   "metadata": {},
   "outputs": [
    {
     "data": {
      "text/plain": [
       "[*aa2b -> *3fad: 1000 at 2023-04-14 23:40:37.481703,\n",
       " *8e92 -> *3fad: -500 at 2023-04-14 23:40:38.446041,\n",
       " *8e92 -> *3fad: -500 at 2023-04-14 23:40:40.392026]"
      ]
     },
     "execution_count": 17,
     "metadata": {},
     "output_type": "execute_result"
    }
   ],
   "source": [
    "# Но поможет механизм отмены транзакции\n",
    "transactions = debit_1.history.see()\n",
    "transactions"
   ]
  },
  {
   "cell_type": "code",
   "execution_count": 18,
   "metadata": {},
   "outputs": [
    {
     "data": {
      "text/plain": [
       "(1000, 0)"
      ]
     },
     "execution_count": 18,
     "metadata": {},
     "output_type": "execute_result"
    }
   ],
   "source": [
    "transactions[-1].cancel()\n",
    "transactions[-2].cancel()\n",
    "debit_1.balance, debit_2.balance"
   ]
  },
  {
   "cell_type": "code",
   "execution_count": 19,
   "metadata": {},
   "outputs": [
    {
     "data": {
      "text/plain": [
       "[*aa2b -> *3fad: 1000 at 2023-04-14 23:40:37.481703,\n",
       " *8e92 -> *3fad: -500 at 2023-04-14 23:40:38.446041,\n",
       " *8e92 -> *3fad: -500 at 2023-04-14 23:40:40.392026,\n",
       " *8e92 -> *3fad: 500 at 2023-04-14 23:40:43.173764,\n",
       " *8e92 -> *3fad: 500 at 2023-04-14 23:40:43.173993]"
      ]
     },
     "execution_count": 19,
     "metadata": {},
     "output_type": "execute_result"
    }
   ],
   "source": [
    "# История с отрицательными транзакциями выглядит немного странно,\n",
    "# но идея в том, что сумма всех чисел равна конечному балансу\n",
    "debit_1.history.see()"
   ]
  },
  {
   "cell_type": "code",
   "execution_count": null,
   "metadata": {},
   "outputs": [],
   "source": []
  }
 ],
 "metadata": {
  "kernelspec": {
   "display_name": "Python 3",
   "language": "python",
   "name": "python3"
  },
  "language_info": {
   "codemirror_mode": {
    "name": "ipython",
    "version": 3
   },
   "file_extension": ".py",
   "mimetype": "text/x-python",
   "name": "python",
   "nbconvert_exporter": "python",
   "pygments_lexer": "ipython3",
   "version": "3.11.3"
  },
  "orig_nbformat": 4
 },
 "nbformat": 4,
 "nbformat_minor": 2
}
