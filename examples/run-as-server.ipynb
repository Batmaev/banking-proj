{
 "cells": [
  {
   "attachments": {},
   "cell_type": "markdown",
   "metadata": {},
   "source": [
    "Сначала нужно запустить сервер из консоли:\n",
    "```bash\n",
    "$ python src/app.py\n",
    "```"
   ]
  },
  {
   "cell_type": "code",
   "execution_count": 1,
   "metadata": {},
   "outputs": [],
   "source": [
    "import requests"
   ]
  },
  {
   "attachments": {},
   "cell_type": "markdown",
   "metadata": {},
   "source": [
    "Создадим банки и клиентов"
   ]
  },
  {
   "cell_type": "code",
   "execution_count": 2,
   "metadata": {},
   "outputs": [
    {
     "data": {
      "text/plain": [
       "{'message': 'Created bank bank1', 'status': 'ok'}"
      ]
     },
     "execution_count": 2,
     "metadata": {},
     "output_type": "execute_result"
    }
   ],
   "source": [
    "requests.post('http://localhost:8000/superuser/create_bank', timeout=0.01, json={\n",
    "    'name': 'bank1'\n",
    "}).json()"
   ]
  },
  {
   "cell_type": "code",
   "execution_count": 3,
   "metadata": {},
   "outputs": [
    {
     "data": {
      "text/plain": [
       "{'message': 'Created bank bank2', 'status': 'ok'}"
      ]
     },
     "execution_count": 3,
     "metadata": {},
     "output_type": "execute_result"
    }
   ],
   "source": [
    "requests.post('http://localhost:8000/superuser/create_bank', timeout=0.01, json={\n",
    "    'name': 'bank2'\n",
    "}).json()"
   ]
  },
  {
   "cell_type": "code",
   "execution_count": 4,
   "metadata": {},
   "outputs": [
    {
     "data": {
      "text/plain": [
       "{'client_token': '5d5c90af-3b67-4568-91aa-457ea72b6b1e',\n",
       " 'message': 'Created client',\n",
       " 'status': 'ok'}"
      ]
     },
     "execution_count": 4,
     "metadata": {},
     "output_type": "execute_result"
    }
   ],
   "source": [
    "client1 = requests.post('http://localhost:8000/superuser/create_client', timeout=0.01, json={\n",
    "    'bank': 'bank1',\n",
    "    'name': 'Иван',\n",
    "    'surname': 'Иванов',\n",
    "    'address': 'Москва, ул. Ленина, д. 1',\n",
    "    'passport': '1234 567890'\n",
    "}).json()\n",
    "client1"
   ]
  },
  {
   "cell_type": "code",
   "execution_count": 5,
   "metadata": {},
   "outputs": [
    {
     "data": {
      "text/plain": [
       "{'client_token': 'ee1d7f5e-9aca-4726-9a26-885722df70a7',\n",
       " 'message': 'Created client',\n",
       " 'status': 'ok'}"
      ]
     },
     "execution_count": 5,
     "metadata": {},
     "output_type": "execute_result"
    }
   ],
   "source": [
    "client2 = requests.post('http://localhost:8000/superuser/create_client', timeout=0.01, json={\n",
    "    'bank': 'bank2',\n",
    "    'name': 'Петр',\n",
    "    'surname': 'Петров'\n",
    "}).json()\n",
    "client2"
   ]
  },
  {
   "cell_type": "code",
   "execution_count": 6,
   "metadata": {},
   "outputs": [
    {
     "data": {
      "text/plain": [
       "{'message': \"Now client is {'bank': <core.Bank object at 0x101d6ae50>, 'name': 'Петр', 'surname': 'Петров', 'passport': '1234 567891', 'address': 'Москва, ул. Ленина, д. 2', 'accounts': {UUID('c88f3fda-8d1e-421c-b1dc-a11bf9f457cf'): <core.CashAccount object at 0x101d6a4d0>}, 'default_cash_account': <core.CashAccount object at 0x101d6a4d0>}\",\n",
       " 'status': 'ok'}"
      ]
     },
     "execution_count": 6,
     "metadata": {},
     "output_type": "execute_result"
    }
   ],
   "source": [
    "# Обновим данные второго клиента\n",
    "requests.post('http://localhost:8000/superuser/update_client', timeout=0.01, json={\n",
    "    'client_token': client2['client_token'],\n",
    "    'address': 'Москва, ул. Ленина, д. 2',\n",
    "    'passport': '1234 567891'\n",
    "}).json()"
   ]
  },
  {
   "attachments": {},
   "cell_type": "markdown",
   "metadata": {},
   "source": [
    "Создадим счета и внесем наличные"
   ]
  },
  {
   "cell_type": "code",
   "execution_count": 7,
   "metadata": {},
   "outputs": [
    {
     "data": {
      "text/plain": [
       "{'info': {'balance': 0,\n",
       "  'id': '8b4a28f8-1209-4751-976d-db03799da425',\n",
       "  'type': 'CreditAccount'},\n",
       " 'message': 'Created account',\n",
       " 'status': 'ok'}"
      ]
     },
     "execution_count": 7,
     "metadata": {},
     "output_type": "execute_result"
    }
   ],
   "source": [
    "account1 = requests.post('http://localhost:8000/client/create_account', timeout=0.01, json={\n",
    "    'client_token': client1['client_token'],\n",
    "    'bank': 'bank1',\n",
    "    'account_type': 'CreditAccount',\n",
    "    'kwargs': {'credit_limit': 10_000, 'interest_rate': 0.1},\n",
    "}).json()\n",
    "account1"
   ]
  },
  {
   "cell_type": "code",
   "execution_count": 8,
   "metadata": {},
   "outputs": [
    {
     "data": {
      "text/plain": [
       "{'info': {'balance': 0,\n",
       "  'id': '3092d856-a0bd-464d-adc0-6c48146ab132',\n",
       "  'type': 'DepositAccount'},\n",
       " 'message': 'Created account',\n",
       " 'status': 'ok'}"
      ]
     },
     "execution_count": 8,
     "metadata": {},
     "output_type": "execute_result"
    }
   ],
   "source": [
    "account2 = requests.post('http://localhost:8000/client/create_account', timeout=0.01, json={\n",
    "    'client_token': client2['client_token'],\n",
    "    'bank': 'bank1',\n",
    "    'account_type': 'DepositAccount',\n",
    "    'kwargs': {'end_date': '2036-01-01'},\n",
    "}).json()\n",
    "account2"
   ]
  },
  {
   "cell_type": "code",
   "execution_count": 9,
   "metadata": {},
   "outputs": [
    {
     "data": {
      "text/plain": [
       "{'message': 'Deposited 4000', 'status': 'ok'}"
      ]
     },
     "execution_count": 9,
     "metadata": {},
     "output_type": "execute_result"
    }
   ],
   "source": [
    "requests.post('http://localhost:8000/client/deposit', timeout=0.01, json={\n",
    "    'client_token': client2['client_token'],\n",
    "    'account_id': account2['info']['id'],\n",
    "    'amount': 4000,\n",
    "}).json()"
   ]
  },
  {
   "attachments": {},
   "cell_type": "markdown",
   "metadata": {},
   "source": [
    "Сделаем перевод"
   ]
  },
  {
   "cell_type": "code",
   "execution_count": 10,
   "metadata": {},
   "outputs": [
    {
     "data": {
      "text/plain": [
       "{'message': 'Transferred 1000', 'status': 'ok'}"
      ]
     },
     "execution_count": 10,
     "metadata": {},
     "output_type": "execute_result"
    }
   ],
   "source": [
    "requests.post('http://localhost:8000/client/transfer', timeout=0.01, json={\n",
    "    'client_token': client1['client_token'],\n",
    "    'to_bank_name': 'bank2',\n",
    "    'from_account_id': account1['info']['id'],\n",
    "    'to_account_id': account2['info']['id'],\n",
    "    'amount': 1000\n",
    "}).json()"
   ]
  },
  {
   "attachments": {},
   "cell_type": "markdown",
   "metadata": {},
   "source": [
    "Попробуем вернуть деньги"
   ]
  },
  {
   "cell_type": "code",
   "execution_count": 11,
   "metadata": {},
   "outputs": [
    {
     "data": {
      "text/plain": [
       "{'message': \"Error: Can't withdraw money before end date\\n\", 'status': 'error'}"
      ]
     },
     "execution_count": 11,
     "metadata": {},
     "output_type": "execute_result"
    }
   ],
   "source": [
    "requests.post('http://localhost:8000/client/transfer', timeout=0.01, json={\n",
    "    'client_token': client2['client_token'],\n",
    "    'to_bank_name': 'bank1',\n",
    "    'from_account_id': account2['info']['id'],\n",
    "    'to_account_id': account1['info']['id'],\n",
    "    'amount': 1000\n",
    "}).json()"
   ]
  },
  {
   "attachments": {},
   "cell_type": "markdown",
   "metadata": {},
   "source": [
    "Не получилось. Воспользуемся механизмом отката транзакций."
   ]
  },
  {
   "attachments": {},
   "cell_type": "markdown",
   "metadata": {},
   "source": [
    "История транзакций:"
   ]
  },
  {
   "cell_type": "code",
   "execution_count": 12,
   "metadata": {},
   "outputs": [
    {
     "data": {
      "text/plain": [
       "{'history': [{'amount': 4000,\n",
       "   'datetime': '2023-04-16T14:11:43.976502',\n",
       "   'from': 'c88f3fda-8d1e-421c-b1dc-a11bf9f457cf',\n",
       "   'id': '123521a0-6fce-446f-ba96-70b4d9fbdf49',\n",
       "   'to': '3092d856-a0bd-464d-adc0-6c48146ab132'},\n",
       "  {'amount': 1000,\n",
       "   'datetime': '2023-04-16T14:11:51.036828',\n",
       "   'from': '8b4a28f8-1209-4751-976d-db03799da425',\n",
       "   'id': 'c6cc3983-c731-4706-adf9-d79d89b255d3',\n",
       "   'to': '3092d856-a0bd-464d-adc0-6c48146ab132'}],\n",
       " 'message': '',\n",
       " 'status': 'ok'}"
      ]
     },
     "execution_count": 12,
     "metadata": {},
     "output_type": "execute_result"
    }
   ],
   "source": [
    "history = requests.post('http://localhost:8000/client/show_history', timeout=0.01, json={\n",
    "    'client_token': client2['client_token'],\n",
    "    'account_id': account2['info']['id'],\n",
    "}).json()\n",
    "history"
   ]
  },
  {
   "attachments": {},
   "cell_type": "markdown",
   "metadata": {},
   "source": [
    "Откат последней транзакции:"
   ]
  },
  {
   "cell_type": "code",
   "execution_count": 13,
   "metadata": {},
   "outputs": [
    {
     "data": {
      "text/plain": [
       "{'message': 'Canceled transaction c6cc3983-c731-4706-adf9-d79d89b255d3',\n",
       " 'status': 'ok'}"
      ]
     },
     "execution_count": 13,
     "metadata": {},
     "output_type": "execute_result"
    }
   ],
   "source": [
    "requests.post('http://localhost:8000/superuser/cancel_transaction', timeout=0.01, json={\n",
    "    'client_token': client2['client_token'],\n",
    "    'account_id': account2['info']['id'],\n",
    "    'transaction_id': history['history'][-1]['id']\n",
    "}).json()"
   ]
  },
  {
   "attachments": {},
   "cell_type": "markdown",
   "metadata": {},
   "source": [
    "Обновленная история у первого и второго клиента:"
   ]
  },
  {
   "cell_type": "code",
   "execution_count": 15,
   "metadata": {},
   "outputs": [
    {
     "data": {
      "text/plain": [
       "{'history': [{'amount': -1000,\n",
       "   'datetime': '2023-04-16T14:11:51.036828',\n",
       "   'from': '3092d856-a0bd-464d-adc0-6c48146ab132',\n",
       "   'id': 'c6cc3983-c731-4706-adf9-d79d89b255d3',\n",
       "   'to': '8b4a28f8-1209-4751-976d-db03799da425'},\n",
       "  {'amount': 1000,\n",
       "   'datetime': '2023-04-16T14:12:15.865260',\n",
       "   'from': '3092d856-a0bd-464d-adc0-6c48146ab132',\n",
       "   'id': 'bbea27b3-5344-4d4e-b44a-c827edd7221d',\n",
       "   'to': '8b4a28f8-1209-4751-976d-db03799da425'}],\n",
       " 'message': '',\n",
       " 'status': 'ok'}"
      ]
     },
     "execution_count": 15,
     "metadata": {},
     "output_type": "execute_result"
    }
   ],
   "source": [
    "requests.post('http://localhost:8000/client/show_history', timeout=0.01, json={\n",
    "    'client_token': client1['client_token'],\n",
    "    'account_id': account1['info']['id'],\n",
    "}).json()"
   ]
  },
  {
   "cell_type": "code",
   "execution_count": 16,
   "metadata": {},
   "outputs": [
    {
     "data": {
      "text/plain": [
       "{'history': [{'amount': 4000,\n",
       "   'datetime': '2023-04-16T14:11:43.976502',\n",
       "   'from': 'c88f3fda-8d1e-421c-b1dc-a11bf9f457cf',\n",
       "   'id': '123521a0-6fce-446f-ba96-70b4d9fbdf49',\n",
       "   'to': '3092d856-a0bd-464d-adc0-6c48146ab132'},\n",
       "  {'amount': 1000,\n",
       "   'datetime': '2023-04-16T14:11:51.036828',\n",
       "   'from': '8b4a28f8-1209-4751-976d-db03799da425',\n",
       "   'id': 'c6cc3983-c731-4706-adf9-d79d89b255d3',\n",
       "   'to': '3092d856-a0bd-464d-adc0-6c48146ab132'},\n",
       "  {'amount': -1000,\n",
       "   'datetime': '2023-04-16T14:12:15.865260',\n",
       "   'from': '8b4a28f8-1209-4751-976d-db03799da425',\n",
       "   'id': 'bbea27b3-5344-4d4e-b44a-c827edd7221d',\n",
       "   'to': '3092d856-a0bd-464d-adc0-6c48146ab132'}],\n",
       " 'message': '',\n",
       " 'status': 'ok'}"
      ]
     },
     "execution_count": 16,
     "metadata": {},
     "output_type": "execute_result"
    }
   ],
   "source": [
    "requests.post('http://localhost:8000/client/show_history', timeout=0.01, json={\n",
    "    'client_token': client2['client_token'],\n",
    "    'account_id': account2['info']['id'],\n",
    "}).json()"
   ]
  },
  {
   "attachments": {},
   "cell_type": "markdown",
   "metadata": {},
   "source": [
    "Первый клиент отправил кредитные деньги, и транзакцию откатили. Соответственно у него сейчас 0:"
   ]
  },
  {
   "cell_type": "code",
   "execution_count": 17,
   "metadata": {},
   "outputs": [
    {
     "data": {
      "text/plain": [
       "{'accounts': [{'balance': -4000,\n",
       "   'id': 'c88f3fda-8d1e-421c-b1dc-a11bf9f457cf',\n",
       "   'type': 'CashAccount'},\n",
       "  {'balance': 4000,\n",
       "   'id': '3092d856-a0bd-464d-adc0-6c48146ab132',\n",
       "   'type': 'DepositAccount'}],\n",
       " 'message': '',\n",
       " 'status': 'ok'}"
      ]
     },
     "execution_count": 17,
     "metadata": {},
     "output_type": "execute_result"
    }
   ],
   "source": [
    "requests.post('http://localhost:8000/client/show_accounts', timeout=0.01, json={\n",
    "    'client_token': client2['client_token'],\n",
    "}).json()"
   ]
  },
  {
   "cell_type": "code",
   "execution_count": null,
   "metadata": {},
   "outputs": [],
   "source": []
  }
 ],
 "metadata": {
  "kernelspec": {
   "display_name": ".venv",
   "language": "python",
   "name": "python3"
  },
  "language_info": {
   "codemirror_mode": {
    "name": "ipython",
    "version": 3
   },
   "file_extension": ".py",
   "mimetype": "text/x-python",
   "name": "python",
   "nbconvert_exporter": "python",
   "pygments_lexer": "ipython3",
   "version": "3.11.3"
  },
  "orig_nbformat": 4
 },
 "nbformat": 4,
 "nbformat_minor": 2
}
