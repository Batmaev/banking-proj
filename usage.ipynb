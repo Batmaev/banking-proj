{
 "cells": [
  {
   "cell_type": "code",
   "execution_count": 1,
   "metadata": {},
   "outputs": [],
   "source": [
    "from core import *"
   ]
  },
  {
   "cell_type": "code",
   "execution_count": 2,
   "metadata": {},
   "outputs": [],
   "source": [
    "bank1 = Bank()\n",
    "bank2 = Bank()"
   ]
  },
  {
   "cell_type": "code",
   "execution_count": 3,
   "metadata": {},
   "outputs": [],
   "source": [
    "# Поэтапное создание клиентов\n",
    "client1 = Client(bank1, \"Иван\", \"Иванов\")\n",
    "client1.address = \"Москва\"\n",
    "client1.passport = \"1234 567890\"\n",
    "\n",
    "client1Facade = ClientFacade(client1)\n",
    "debit_1 = client1Facade.create_account(DebitAccount)\n",
    "\n",
    "client2 = Client(bank2, \"Петр\", \"Петров\")\n",
    "client2Facade = ClientFacade(client2)\n",
    "debit_2 = client2Facade.create_account(DebitAccount)"
   ]
  },
  {
   "cell_type": "code",
   "execution_count": 4,
   "metadata": {},
   "outputs": [
    {
     "data": {
      "text/plain": [
       "1000"
      ]
     },
     "execution_count": 4,
     "metadata": {},
     "output_type": "execute_result"
    }
   ],
   "source": [
    "# Внесение наличных\n",
    "\n",
    "client1Facade.deposit(debit_1, 1000)\n",
    "debit_1.balance"
   ]
  },
  {
   "cell_type": "code",
   "execution_count": 5,
   "metadata": {},
   "outputs": [
    {
     "data": {
      "text/plain": [
       "(500, 500)"
      ]
     },
     "execution_count": 5,
     "metadata": {},
     "output_type": "execute_result"
    }
   ],
   "source": [
    "# Перевод\n",
    "\n",
    "t1 = Transaction(debit_1, debit_2, 500).perform()\n",
    "debit_1.balance, debit_2.balance"
   ]
  },
  {
   "cell_type": "code",
   "execution_count": 6,
   "metadata": {},
   "outputs": [
    {
     "data": {
      "text/plain": [
       "UUID('d14e7b62-8f10-47cb-a4ab-c0e185da49af')"
      ]
     },
     "execution_count": 6,
     "metadata": {},
     "output_type": "execute_result"
    }
   ],
   "source": [
    "# Альтернативно, клиенты могут через фасад переводить по id счёта получателя\n",
    "\n",
    "debit_2.id"
   ]
  },
  {
   "cell_type": "code",
   "execution_count": 7,
   "metadata": {},
   "outputs": [
    {
     "data": {
      "text/plain": [
       "(0, 1000)"
      ]
     },
     "execution_count": 7,
     "metadata": {},
     "output_type": "execute_result"
    }
   ],
   "source": [
    "t2 = client1Facade.transfer(debit_1, debit_2.id, 500, bank2)\n",
    "debit_1.balance, debit_2.balance"
   ]
  },
  {
   "cell_type": "code",
   "execution_count": 8,
   "metadata": {},
   "outputs": [
    {
     "ename": "ValueError",
     "evalue": "Client doesn't have passport or address\n",
     "output_type": "error",
     "traceback": [
      "\u001b[0;31m---------------------------------------------------------------------------\u001b[0m",
      "\u001b[0;31mValueError\u001b[0m                                Traceback (most recent call last)",
      "Cell \u001b[0;32mIn[8], line 3\u001b[0m\n\u001b[1;32m      1\u001b[0m \u001b[39m# Если просто попросить Петрова вернуть деньги, то он не сможет, т.к. у него нет паспорта\u001b[39;00m\n\u001b[0;32m----> 3\u001b[0m Transaction(debit_2, debit_1, \u001b[39m500\u001b[39;49m)\u001b[39m.\u001b[39;49mperform()\n",
      "File \u001b[0;32m~/Coding/courses/programming-technologies/banking-proj/core.py:85\u001b[0m, in \u001b[0;36mTransaction.perform\u001b[0;34m(self)\u001b[0m\n\u001b[1;32m     82\u001b[0m \u001b[39mdef\u001b[39;00m \u001b[39mperform\u001b[39m(\u001b[39mself\u001b[39m) \u001b[39m-\u001b[39m\u001b[39m>\u001b[39m \u001b[39m\"\u001b[39m\u001b[39mTransaction\u001b[39m\u001b[39m\"\u001b[39m:\n\u001b[1;32m     83\u001b[0m \u001b[39m    \u001b[39m\u001b[39m\"\"\"Проверяет допустимость транзакции и выполняет её.\u001b[39;00m\n\u001b[1;32m     84\u001b[0m \u001b[39m    Записывает транзакцию в историю обоих счётов.\"\"\"\u001b[39;00m\n\u001b[0;32m---> 85\u001b[0m     \u001b[39mself\u001b[39;49m\u001b[39m.\u001b[39;49mcheck_permissions()\u001b[39m.\u001b[39;49mraise_if_false()\n\u001b[1;32m     86\u001b[0m     \u001b[39mself\u001b[39m\u001b[39m.\u001b[39mmirror\u001b[39m.\u001b[39mcheck_permissions()\u001b[39m.\u001b[39mraise_if_false()\n\u001b[1;32m     87\u001b[0m     \u001b[39mreturn\u001b[39;00m \u001b[39mself\u001b[39m\u001b[39m.\u001b[39m_perform_without_checking_permissions()\n",
      "File \u001b[0;32m~/Coding/courses/programming-technologies/banking-proj/core.py:34\u001b[0m, in \u001b[0;36mBoolWithReason.raise_if_false\u001b[0;34m(self)\u001b[0m\n\u001b[1;32m     32\u001b[0m \u001b[39m\"\u001b[39m\u001b[39mЕсли результат проверки False, выбрасывает ValueError с причиной.\u001b[39m\u001b[39m\"\u001b[39m\n\u001b[1;32m     33\u001b[0m \u001b[39mif\u001b[39;00m \u001b[39mnot\u001b[39;00m \u001b[39mself\u001b[39m:\n\u001b[0;32m---> 34\u001b[0m     \u001b[39mraise\u001b[39;00m \u001b[39mValueError\u001b[39;00m(\u001b[39mself\u001b[39m\u001b[39m.\u001b[39mreason)\n",
      "\u001b[0;31mValueError\u001b[0m: Client doesn't have passport or address\n"
     ]
    }
   ],
   "source": [
    "# Если просто попросить Петрова вернуть деньги, то он не сможет, т.к. у него нет паспорта\n",
    "\n",
    "Transaction(debit_2, debit_1, 500).perform()"
   ]
  },
  {
   "cell_type": "code",
   "execution_count": 9,
   "metadata": {},
   "outputs": [
    {
     "data": {
      "text/plain": [
       "(1000, 0)"
      ]
     },
     "execution_count": 9,
     "metadata": {},
     "output_type": "execute_result"
    }
   ],
   "source": [
    "# Но поможет механизм отмены транзакции\n",
    "t1.cancel()\n",
    "t2.cancel()\n",
    "debit_1.balance, debit_2.balance"
   ]
  },
  {
   "cell_type": "code",
   "execution_count": 10,
   "metadata": {},
   "outputs": [
    {
     "data": {
      "text/plain": [
       "['2023-03-15 15:32:33.187500: -500',\n",
       " '2023-03-15 15:32:33.144285: -500',\n",
       " '2023-03-15 15:32:38.723992: 500',\n",
       " '2023-03-15 15:32:33.122346: 1000',\n",
       " '2023-03-15 15:32:38.724037: 500']"
      ]
     },
     "execution_count": 10,
     "metadata": {},
     "output_type": "execute_result"
    }
   ],
   "source": [
    "# История транзакций\n",
    "[f\"{t.datetime}: {t.amount}\" for t in debit_1.history.transactions]"
   ]
  },
  {
   "cell_type": "code",
   "execution_count": null,
   "metadata": {},
   "outputs": [],
   "source": [
    "# Сумма всех чисел равна конечному балансу"
   ]
  },
  {
   "cell_type": "code",
   "execution_count": null,
   "metadata": {},
   "outputs": [],
   "source": []
  }
 ],
 "metadata": {
  "kernelspec": {
   "display_name": "Python 3",
   "language": "python",
   "name": "python3"
  },
  "language_info": {
   "codemirror_mode": {
    "name": "ipython",
    "version": 3
   },
   "file_extension": ".py",
   "mimetype": "text/x-python",
   "name": "python",
   "nbconvert_exporter": "python",
   "pygments_lexer": "ipython3",
   "version": "3.11.2"
  },
  "orig_nbformat": 4
 },
 "nbformat": 4,
 "nbformat_minor": 2
}
