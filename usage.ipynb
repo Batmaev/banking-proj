{
 "cells": [
  {
   "cell_type": "code",
   "execution_count": 1,
   "metadata": {},
   "outputs": [],
   "source": [
    "from core import *"
   ]
  },
  {
   "cell_type": "code",
   "execution_count": 2,
   "metadata": {},
   "outputs": [],
   "source": [
    "bank1 = Bank()\n",
    "bank2 = Bank()"
   ]
  },
  {
   "cell_type": "code",
   "execution_count": 3,
   "metadata": {},
   "outputs": [],
   "source": [
    "# Поэтапное создание клиентов\n",
    "client1 = Client(bank1, \"Иван\", \"Иванов\")\n",
    "client1.address = \"Москва\"\n",
    "client1.passport = \"1234 567890\"\n",
    "cash_1 = client1.create_account(CashAccount)\n",
    "debit_1 = client1.create_account(DebitAccount)\n",
    "\n",
    "client2 = Client(bank2, \"Петр\", \"Петров\")\n",
    "cash_2 = client2.create_account(CashAccount)\n",
    "debit_2 = client2.create_account(DebitAccount)"
   ]
  },
  {
   "cell_type": "code",
   "execution_count": 4,
   "metadata": {},
   "outputs": [
    {
     "data": {
      "text/plain": [
       "1000"
      ]
     },
     "execution_count": 4,
     "metadata": {},
     "output_type": "execute_result"
    }
   ],
   "source": [
    "# Внесение наличных\n",
    "\n",
    "Transaction(cash_1, debit_1, 1000).perform()\n",
    "debit_1.balance"
   ]
  },
  {
   "cell_type": "code",
   "execution_count": 5,
   "metadata": {},
   "outputs": [
    {
     "data": {
      "text/plain": [
       "(500, 500)"
      ]
     },
     "execution_count": 5,
     "metadata": {},
     "output_type": "execute_result"
    }
   ],
   "source": [
    "# Перевод\n",
    "\n",
    "t = Transaction(debit_1, debit_2, 500).perform()\n",
    "debit_1.balance, debit_2.balance"
   ]
  },
  {
   "cell_type": "code",
   "execution_count": 7,
   "metadata": {},
   "outputs": [
    {
     "ename": "ValueError",
     "evalue": "Not enough priveleges",
     "output_type": "error",
     "traceback": [
      "\u001b[0;31m---------------------------------------------------------------------------\u001b[0m",
      "\u001b[0;31mValueError\u001b[0m                                Traceback (most recent call last)",
      "Cell \u001b[0;32mIn[7], line 3\u001b[0m\n\u001b[1;32m      1\u001b[0m \u001b[39m# Если просто попросить Петрова вернуть деньги, то он не сможет, т.к. у него нет паспорта\u001b[39;00m\n\u001b[0;32m----> 3\u001b[0m Transaction(debit_2, debit_1, \u001b[39m500\u001b[39;49m)\u001b[39m.\u001b[39;49mperform()\n",
      "File \u001b[0;32m~/Coding/courses/programming-technologies/banking-proj/core.py:92\u001b[0m, in \u001b[0;36mTransaction.perform\u001b[0;34m(self)\u001b[0m\n\u001b[1;32m     90\u001b[0m \u001b[39mdef\u001b[39;00m \u001b[39mperform\u001b[39m(\u001b[39mself\u001b[39m) \u001b[39m-\u001b[39m\u001b[39m>\u001b[39m \u001b[39m\"\u001b[39m\u001b[39mTransaction\u001b[39m\u001b[39m\"\u001b[39m:\n\u001b[1;32m     91\u001b[0m     \u001b[39mif\u001b[39;00m \u001b[39mnot\u001b[39;00m \u001b[39mself\u001b[39m\u001b[39m.\u001b[39mFrom\u001b[39m.\u001b[39mclient\u001b[39m.\u001b[39mcheck_priveleges(\u001b[39mself\u001b[39m\u001b[39m.\u001b[39mamount):\n\u001b[0;32m---> 92\u001b[0m         \u001b[39mraise\u001b[39;00m \u001b[39mValueError\u001b[39;00m(\u001b[39m\"\u001b[39m\u001b[39mNot enough priveleges\u001b[39m\u001b[39m\"\u001b[39m)\n\u001b[1;32m     93\u001b[0m     \u001b[39melse\u001b[39;00m:\n\u001b[1;32m     94\u001b[0m         \u001b[39mself\u001b[39m\u001b[39m.\u001b[39mFrom\u001b[39m.\u001b[39msubtract(\u001b[39mself\u001b[39m\u001b[39m.\u001b[39mamount)\n",
      "\u001b[0;31mValueError\u001b[0m: Not enough priveleges"
     ]
    }
   ],
   "source": [
    "# Если просто попросить Петрова вернуть деньги, то он не сможет, т.к. у него нет паспорта\n",
    "\n",
    "Transaction(debit_2, debit_1, 500).perform()"
   ]
  },
  {
   "cell_type": "code",
   "execution_count": 8,
   "metadata": {},
   "outputs": [
    {
     "data": {
      "text/plain": [
       "(1000, 0)"
      ]
     },
     "execution_count": 8,
     "metadata": {},
     "output_type": "execute_result"
    }
   ],
   "source": [
    "# Но поможет механизм отмены транзакции\n",
    "t.cancel()\n",
    "debit_1.balance, debit_2.balance"
   ]
  },
  {
   "cell_type": "code",
   "execution_count": null,
   "metadata": {},
   "outputs": [],
   "source": []
  }
 ],
 "metadata": {
  "kernelspec": {
   "display_name": "Python 3",
   "language": "python",
   "name": "python3"
  },
  "language_info": {
   "codemirror_mode": {
    "name": "ipython",
    "version": 3
   },
   "file_extension": ".py",
   "mimetype": "text/x-python",
   "name": "python",
   "nbconvert_exporter": "python",
   "pygments_lexer": "ipython3",
   "version": "3.11.2"
  },
  "orig_nbformat": 4
 },
 "nbformat": 4,
 "nbformat_minor": 2
}
