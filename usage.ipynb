{
 "cells": [
  {
   "cell_type": "code",
   "execution_count": 1,
   "metadata": {},
   "outputs": [],
   "source": [
    "from core import *"
   ]
  },
  {
   "cell_type": "code",
   "execution_count": 2,
   "metadata": {},
   "outputs": [],
   "source": [
    "bank1 = Bank()\n",
    "bank2 = Bank()"
   ]
  },
  {
   "cell_type": "code",
   "execution_count": 3,
   "metadata": {},
   "outputs": [],
   "source": [
    "# Поэтапное создание клиентов\n",
    "client1 = Client(bank1, \"Иван\", \"Иванов\")\n",
    "client1.address = \"Москва\"\n",
    "client1.passport = \"1234 567890\"\n",
    "\n",
    "client1Facade = ClientFacade(client1)\n",
    "debit_1 = client1Facade.create_account(DebitAccount)\n",
    "\n",
    "client2 = Client(bank2, \"Петр\", \"Петров\")\n",
    "client2Facade = ClientFacade(client2)\n",
    "debit_2 = client2Facade.create_account(DebitAccount)"
   ]
  },
  {
   "cell_type": "code",
   "execution_count": 4,
   "metadata": {},
   "outputs": [
    {
     "data": {
      "text/plain": [
       "1000"
      ]
     },
     "execution_count": 4,
     "metadata": {},
     "output_type": "execute_result"
    }
   ],
   "source": [
    "# Внесение наличных\n",
    "\n",
    "client1Facade.deposit(debit_1, 1000)\n",
    "debit_1.balance"
   ]
  },
  {
   "cell_type": "code",
   "execution_count": 5,
   "metadata": {},
   "outputs": [
    {
     "data": {
      "text/plain": [
       "(500, 500)"
      ]
     },
     "execution_count": 5,
     "metadata": {},
     "output_type": "execute_result"
    }
   ],
   "source": [
    "# Перевод\n",
    "\n",
    "Transaction(debit_1, debit_2, 500).perform()\n",
    "debit_1.balance, debit_2.balance"
   ]
  },
  {
   "cell_type": "code",
   "execution_count": 6,
   "metadata": {},
   "outputs": [
    {
     "data": {
      "text/plain": [
       "UUID('4797619b-f65f-4595-87ff-5ca4df935cd9')"
      ]
     },
     "execution_count": 6,
     "metadata": {},
     "output_type": "execute_result"
    }
   ],
   "source": [
    "# Альтернативно, клиенты могут через фасад переводить по id счёта получателя\n",
    "\n",
    "debit_2.id"
   ]
  },
  {
   "cell_type": "code",
   "execution_count": 7,
   "metadata": {},
   "outputs": [
    {
     "data": {
      "text/plain": [
       "(0, 1000)"
      ]
     },
     "execution_count": 7,
     "metadata": {},
     "output_type": "execute_result"
    }
   ],
   "source": [
    "client1Facade.transfer(debit_1, debit_2.id, 500, bank2)\n",
    "debit_1.balance, debit_2.balance"
   ]
  },
  {
   "cell_type": "code",
   "execution_count": 8,
   "metadata": {},
   "outputs": [
    {
     "data": {
      "text/plain": [
       "Error: Client doesn't have passport or address"
      ]
     },
     "execution_count": 8,
     "metadata": {},
     "output_type": "execute_result"
    }
   ],
   "source": [
    "# Если просто попросить Петрова вернуть деньги, то он не сможет, т.к. у него нет паспорта\n",
    "\n",
    "Transaction(debit_2, debit_1, 500).perform()"
   ]
  },
  {
   "cell_type": "code",
   "execution_count": 9,
   "metadata": {},
   "outputs": [
    {
     "data": {
      "text/plain": [
       "[*5e87 -> *7c1a: 1000 at 2023-03-15 20:35:32.870406,\n",
       " *35cd -> *7c1a: -500 at 2023-03-15 20:35:32.896032,\n",
       " *35cd -> *7c1a: -500 at 2023-03-15 20:35:32.964331]"
      ]
     },
     "execution_count": 9,
     "metadata": {},
     "output_type": "execute_result"
    }
   ],
   "source": [
    "# Но поможет механизм отмены транзакции\n",
    "transactions = debit_1.history.see()\n",
    "transactions"
   ]
  },
  {
   "cell_type": "code",
   "execution_count": 10,
   "metadata": {},
   "outputs": [
    {
     "data": {
      "text/plain": [
       "(1000, 0)"
      ]
     },
     "execution_count": 10,
     "metadata": {},
     "output_type": "execute_result"
    }
   ],
   "source": [
    "transactions[-1].cancel()\n",
    "transactions[-2].cancel()\n",
    "debit_1.balance, debit_2.balance"
   ]
  },
  {
   "cell_type": "code",
   "execution_count": 11,
   "metadata": {},
   "outputs": [
    {
     "data": {
      "text/plain": [
       "[*5e87 -> *7c1a: 1000 at 2023-03-15 20:35:32.870406,\n",
       " *35cd -> *7c1a: -500 at 2023-03-15 20:35:32.896032,\n",
       " *35cd -> *7c1a: -500 at 2023-03-15 20:35:32.964331,\n",
       " *35cd -> *7c1a: 500 at 2023-03-15 20:35:33.031689,\n",
       " *35cd -> *7c1a: 500 at 2023-03-15 20:35:33.031730]"
      ]
     },
     "execution_count": 11,
     "metadata": {},
     "output_type": "execute_result"
    }
   ],
   "source": [
    "# История с отрицательными транзакциями выглядит немного странно,\n",
    "# но идея в том, что сумма всех чисел равна конечному балансу\n",
    "debit_1.history.see()"
   ]
  }
 ],
 "metadata": {
  "kernelspec": {
   "display_name": "Python 3",
   "language": "python",
   "name": "python3"
  },
  "language_info": {
   "codemirror_mode": {
    "name": "ipython",
    "version": 3
   },
   "file_extension": ".py",
   "mimetype": "text/x-python",
   "name": "python",
   "nbconvert_exporter": "python",
   "pygments_lexer": "ipython3",
   "version": "3.11.2"
  },
  "orig_nbformat": 4
 },
 "nbformat": 4,
 "nbformat_minor": 2
}
